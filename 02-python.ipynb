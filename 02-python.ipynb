 1. Take values of the length & breadth of a rectangle from user input and check if it is square or not.
Length=float(input("Enter the length of the rectangle :"))
Breadth=float(input("Enter the breadth of the rectangle :"))
#Checking the rectangle is Square or Not.

if Length==Breadth:
    print("The rectangle is a Square")
else:
   print("The rectangle is not a Square")
